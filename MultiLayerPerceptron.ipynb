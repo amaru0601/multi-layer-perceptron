{
 "cells": [
  {
   "cell_type": "code",
   "execution_count": 58,
   "id": "9dfe962b",
   "metadata": {},
   "outputs": [],
   "source": [
    "import numpy as np\n",
    "import matplotlib.pyplot as plt\n",
    "import pandas as pd"
   ]
  },
  {
   "cell_type": "code",
   "execution_count": 63,
   "id": "32240b9e",
   "metadata": {},
   "outputs": [
    {
     "name": "stdout",
     "output_type": "stream",
     "text": [
      "[[-0.92895113 -0.76362507 -0.62085156 ...  0.66406257  0.65811336\n",
      "   0.65493948]\n",
      " [ 0.23165213  0.2128048   0.12168008 ... -0.93157535 -0.41091344\n",
      "  -0.16809718]\n",
      " [ 1.00538763  0.98894136  0.94102534 ...  0.52187701  0.51662452\n",
      "   0.54623652]\n",
      " ...\n",
      " [ 0.69105758  0.63842807  0.58256179 ...  0.63246578  0.61095041\n",
      "   0.62388149]\n",
      " [ 0.76359529  0.81368471  0.83860719 ... -1.54771277 -1.16552059\n",
      "  -1.03772083]\n",
      " [ 0.81195376  0.78864805  0.73618903 ...  0.67986097  0.75243925\n",
      "   0.8568164 ]]\n",
      "(27455, 784)\n",
      "[[ 1.         -0.92895113 -0.76362507 ...  0.66406257  0.65811336\n",
      "   0.65493948]\n",
      " [ 1.          0.23165213  0.2128048  ... -0.93157535 -0.41091344\n",
      "  -0.16809718]\n",
      " [ 1.          1.00538763  0.98894136 ...  0.52187701  0.51662452\n",
      "   0.54623652]\n",
      " ...\n",
      " [ 1.          0.69105758  0.63842807 ...  0.63246578  0.61095041\n",
      "   0.62388149]\n",
      " [ 1.          0.76359529  0.81368471 ... -1.54771277 -1.16552059\n",
      "  -1.03772083]\n",
      " [ 1.          0.81195376  0.78864805 ...  0.67986097  0.75243925\n",
      "   0.8568164 ]]\n",
      "(27455, 785)\n",
      "[[-1.27875344]\n",
      " [-0.86708508]\n",
      " [-1.41597623]\n",
      " ...\n",
      " [ 0.77958837]\n",
      " [ 0.64236558]\n",
      " [ 1.46570231]]\n"
     ]
    }
   ],
   "source": [
    "df = pd.read_csv('data/sign_mnist_train.csv')\n",
    "imgs =df.iloc[:,1:]\n",
    "y = df.iloc[:,0:1]\n",
    "mean_y = np.mean(y)\n",
    "stdev_y = np.std(y)\n",
    "y = (y - mean_y) / stdev_y\n",
    "y = y.to_numpy()\n",
    "\n",
    "mean = np.mean(imgs)\n",
    "stdev = np.std(imgs)\n",
    "x_train = (imgs - mean) / stdev\n",
    "x_train = x_train.to_numpy()\n",
    "print(x_train)\n",
    "print(x_train.shape)\n",
    "\n",
    "#adding bias to x train\n",
    "x_train = np.insert( x_train, 0, 1, axis = 1)\n",
    "print(x_train)\n",
    "print(x_train.shape)\n",
    "print(y)\n",
    "\n"
   ]
  },
  {
   "cell_type": "code",
   "execution_count": 47,
   "id": "776cbdca",
   "metadata": {},
   "outputs": [
    {
     "name": "stdout",
     "output_type": "stream",
     "text": [
      "(25, 61)\n"
     ]
    }
   ],
   "source": [
    "# esta funcion construye una matrix de pesos aleatoriamente agregando una columna adicional\n",
    "# de ceros para el bias\n",
    "# neuron_count: numero de perceptrones\n",
    "# input_count: numero de features de un elemento\n",
    "def layer_w(neuron_count, input_count):\n",
    "    weights = np.zeros((neuron_count, input_count+1))\n",
    "    for i in range(neuron_count):\n",
    "        for j in range(1, (input_count+1)):\n",
    "            weights[i][j] = np.random.uniform(-0.1, 0.1)\n",
    "    return weights\n",
    "\n",
    "hidden_layer_w = layer_w(60, 784) #(60, 785)\n",
    "hidden_layer_y = np.zeros(60)\n",
    "hidden_layer_error = np.zeros(60)\n",
    "\n",
    "\n",
    "output_layer_w = layer_w(25,60) #(25, 61)\n",
    "output_layer_y = np.zeros(25)\n",
    "output_layer_error = np.zeros(25)\n",
    "print(output_layer_w.shape)"
   ]
  },
  {
   "cell_type": "code",
   "execution_count": 48,
   "id": "a4102a0c",
   "metadata": {},
   "outputs": [],
   "source": [
    "chart_x = []\n",
    "chart_y_train = []\n",
    "chart_y_test = []\n",
    "def show_learning(epoch_no, train_acc, test_acc):\n",
    "    global chart_x\n",
    "    global chart_y_train\n",
    "    global chart_y_test\n",
    "    print('epoch no:', epoch_no, ', train_acc: ', '%6.4f' % train_acc,\n",
    "             ', test_acc: ', '%6.4f' % test_acc, )\n",
    "    chart_x.append(epoch_no + 1)\n",
    "    chart_y_test.append(1.0 - test_acc)\n",
    "    chart_y_train.append(1.0 - train_acc)\n",
    "\n",
    "def plot_learning():\n",
    "    plt.plot(chart_x, chart_y_train, 'r-', label='training error')\n",
    "    plt.plot(chart_x, chart_y_test, 'b-', label='test error')\n",
    "    plt.axis([0, len(chart_x), 0.0, 1.0])\n",
    "    plt.xlabel('training epochs')\n",
    "    plt.ylabel('error')\n",
    "    plt.legend()\n",
    "    plt.show()"
   ]
  },
  {
   "cell_type": "code",
   "execution_count": 49,
   "metadata": {},
   "outputs": [],
   "source": [
    "#parametro x es una muestra del dataset (1, n) donde n es el num de features\n",
    "def forward_pass(x):\n",
    "    global hidden_layer_y\n",
    "    global output_layer_y\n",
    "\n",
    "    #agregamos funcion de activacion tanh para hidden layer\n",
    "    #hidden_layer.shape (n, m) donde m es el num de neuronas \n",
    "    for i,w in enumerate(hidden_layer_w):\n",
    "        #z es un resultado de (1,n)*(n, 1) = (1, 1) \n",
    "        z = np.dot(x, np.transpose(w))\n",
    "        hidden_layer_y[i] = np.tanh(z)\n",
    "    \n",
    "    #agregamos un bias\n",
    "    hidden_output_arr = np.concatenate((np.array([1.0]), hidden_layer_y))\n",
    "    \n",
    "    #agregamos funcion de activacion sigmoide para output layer\n",
    "    for i,w in enumerate(output_layer_w):\n",
    "        z = np.dot(hidden_output_arr, np.transpose(w))\n",
    "        output_layer_y[i] = 1.0/(1.0 + np.exp(z))\n",
    "\n",
    "    print(output_layer_y)\n",
    "\n",
    "#np.dot(x_train, np.transpose(hidden_layer_w)).shape\n",
    "\n"
   ]
  },
  {
   "cell_type": "code",
   "execution_count": 50,
   "id": "72404352",
   "metadata": {},
   "outputs": [
    {
     "name": "stdout",
     "output_type": "stream",
     "text": [
      "[0.51433325 0.51144755 0.51148776 0.4786763  0.49112908 0.53033642\n",
      " 0.49690908 0.4842712  0.4742564  0.52077415 0.51914193 0.5133514\n",
      " 0.49332457 0.51587104 0.50308101 0.51831052 0.50557628 0.49739909\n",
      " 0.49927828 0.51483361 0.50401369 0.48781769 0.48424252 0.4640482\n",
      " 0.51101935]\n"
     ]
    }
   ],
   "source": [
    "x = hidden_layer_w[0:1]\n",
    "forward_pass(x)\n"
   ]
  },
  {
   "cell_type": "code",
   "execution_count": 65,
   "id": "db266b10",
   "metadata": {},
   "outputs": [
    {
     "name": "stdout",
     "output_type": "stream",
     "text": [
      "(25,)\n",
      "(25,)\n",
      "(25,)\n",
      "(25,)\n",
      "(25,)\n",
      "(25,)\n",
      "(25,)\n",
      "(25,)\n",
      "(25,)\n",
      "(25,)\n",
      "(25,)\n",
      "(25,)\n",
      "(25,)\n",
      "(25,)\n",
      "(25,)\n",
      "(25,)\n",
      "(25,)\n",
      "(25,)\n",
      "(25,)\n",
      "(25,)\n",
      "(25,)\n",
      "(25,)\n",
      "(25,)\n",
      "(25,)\n",
      "(25,)\n",
      "(25,)\n",
      "(25,)\n",
      "(25,)\n",
      "(25,)\n",
      "(25,)\n",
      "(25,)\n",
      "(25,)\n",
      "(25,)\n",
      "(25,)\n",
      "(25,)\n",
      "(25,)\n",
      "(25,)\n",
      "(25,)\n",
      "(25,)\n",
      "(25,)\n",
      "(25,)\n",
      "(25,)\n",
      "(25,)\n",
      "(25,)\n",
      "(25,)\n",
      "(25,)\n",
      "(25,)\n",
      "(25,)\n",
      "(25,)\n",
      "(25,)\n",
      "(25,)\n",
      "(25,)\n",
      "(25,)\n",
      "(25,)\n",
      "(25,)\n",
      "(25,)\n",
      "(25,)\n",
      "(25,)\n",
      "(25,)\n",
      "(25,)\n"
     ]
    }
   ],
   "source": [
    "def backward_pass(y_valid):\n",
    "    global hidden_layer_error\n",
    "    global output_layer_error\n",
    "\n",
    "    for i,y in enumerate(output_layer_y):\n",
    "        error_prime = -(y_valid[i]-y)\n",
    "        derivative = y * (1.0 - y)\n",
    "        output_layer_error[i] = error_prime * derivative\n",
    "\n",
    "    \n",
    "    for i,y in enumerate(hidden_layer_y):\n",
    "        error_weights = []    \n",
    "        for w in output_layer_w:\n",
    "            error_weights.append(w[i+1])\n",
    "        error_weight_array = np.array(error_weights)\n",
    "        print(error_weight_array.shape)\n",
    "backward_pass(y)\n"
   ]
  },
  {
   "cell_type": "code",
   "execution_count": null,
   "metadata": {},
   "outputs": [],
   "source": []
  }
 ],
 "metadata": {
  "interpreter": {
   "hash": "1f074f829bd833dadb34bb48398a43986af1904bc333e39f368d0d392c4220bb"
  },
  "kernelspec": {
   "display_name": "Python 3.9.5 64-bit ('base': conda)",
   "name": "python3"
  },
  "language_info": {
   "codemirror_mode": {
    "name": "ipython",
    "version": 3
   },
   "file_extension": ".py",
   "mimetype": "text/x-python",
   "name": "python",
   "nbconvert_exporter": "python",
   "pygments_lexer": "ipython3",
   "version": "3.8.5"
  }
 },
 "nbformat": 4,
 "nbformat_minor": 5
}
