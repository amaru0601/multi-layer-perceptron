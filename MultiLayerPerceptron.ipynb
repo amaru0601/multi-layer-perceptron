{
 "cells": [
  {
   "cell_type": "code",
   "execution_count": 105,
   "id": "9dfe962b",
   "metadata": {},
   "outputs": [],
   "source": [
    "import numpy as np\n",
    "import matplotlib.pyplot as plt\n",
    "import pandas as pd"
   ]
  },
  {
   "cell_type": "code",
   "execution_count": 106,
   "id": "32240b9e",
   "metadata": {},
   "outputs": [],
   "source": [
    "class MultiLayerPerceptron:\n",
    "  def __init__ (self, features, hidden_layers, hidden_neurons, output_neurons, f_activation, learning_rate):\n",
    "    self.features = features\n",
    "    self.h_layers = hidden_layers\n",
    "    self.h_neurons = hidden_neurons\n",
    "    self.o_neurons = output_neurons\n",
    "    self.fa = f_activation\n",
    "    self.l_rate = learning_rate\n",
    "    self.generate_layers()\n",
    "  \n",
    "  # esta funcion construye una matrix de pesos aleatoriamente agregando una columna adicional\n",
    "  # de bias\n",
    "  # neuron_count: numero de perceptrones\n",
    "  # input_count: numero de features de un elemento\n",
    "  def layer_w (self, neuron_count, input_count):\n",
    "    weights = np.zeros((neuron_count, input_count+1))\n",
    "    for i in range(neuron_count):\n",
    "      for j in range(1, (input_count+1)):\n",
    "        weights[i][j] = np.random.uniform(-0.1, 0.1)\n",
    "    return weights\n",
    "\n",
    "  def generate_layers (self):\n",
    "    # Generation for hidden layers\n",
    "    self.hidden_layer_w = self.layer_w (self.h_neurons, self.features)\n",
    "    self.hidden_layer_y = np.zeros (self.h_neurons)\n",
    "    self.hidden_layer_error = np.zeros (self.h_neurons)\n",
    "\n",
    "    # Generation for output layer\n",
    "    self.output_layer_w = self.layer_w (self.o_neurons, self.h_neurons)\n",
    "    self.output_layer_y = np.zeros (self.o_neurons)\n",
    "    self.output_layer_error = np.zeros (self.o_neurons)\n",
    "\n",
    "  #parametro x es una muestra del dataset (1, n) donde n es el num de features\n",
    "  def forward_pass (self, x):\n",
    "    for i, w in enumerate (self.hidden_layer_w):\n",
    "      z = np.dot (w, x)\n",
    "      self.hidden_layer_y [i] = np.tanh(z)\n",
    "    hidden_output_array = np.concatenate((np.array([1.0]), self.hidden_layer_y))\n",
    "\n",
    "    for i, w in enumerate (self.output_layer_w):\n",
    "      z = np.dot (w, hidden_output_array)\n",
    "      self.output_layer_y [i] = 1.0 / (1.0 + np.exp(-z))\n",
    "\n",
    "  #y_valid: one hot encoding(1,25) representando una letra\n",
    "  def backward_pass (self, y_truth):\n",
    "    #calculamos el error con respecto a la capa de salida\n",
    "    for i, y in enumerate (self.output_layer_y):\n",
    "      error_prime = -(y_truth[i] - y)\n",
    "      derivative = y * (1.0 - y)\n",
    "      self.output_layer_error[i] = error_prime * derivative\n",
    "\n",
    "    #iteramos la capa hidden, i -> neural \n",
    "    #guardamos pesos relacionados a neural i de la capa output\n",
    "    for i,y in enumerate(self.hidden_layer_y):\n",
    "      error_weights = []\n",
    "      for w in self.output_layer_w:\n",
    "          error_weights.append(w[i+1])\n",
    "      error_weight_array = np.array(error_weights)\n",
    "      \n",
    "      derivative = 1.0 - y**2#derivada de la funcion tanh\n",
    "      #calculamos el error propagado de neural i \n",
    "      weighted_error = np.dot(error_weight_array, self.output_layer_error)\n",
    "      #calculamos el error con respecto a la funcion de activacion\n",
    "      self.hidden_layer_error[i] = weighted_error * derivative\n",
    "\n",
    "  # x es una muestra de (1,785)\n",
    "  def adjust_weights(self, x):\n",
    "    for i, error in enumerate (self.hidden_layer_error):\n",
    "      self.hidden_layer_w [i] -= (x * self.l_rate * error)\n",
    "\n",
    "    hidden_output_array = np.concatenate ((np.array([1.0]), self.hidden_layer_y))\n",
    "    \n",
    "    for i, error in enumerate (self.output_layer_error):\n",
    "      self.output_layer_w [i] -= (hidden_output_array * self.l_rate * error)\n",
    "\n",
    "  def training (self, x_data, y_data):\n",
    "    index_list = list(range(len(x_data)))\n",
    "    for i in range(10):\n",
    "      np.random.shuffle(index_list)\n",
    "      correct_training_results = 0\n",
    "      for j in index_list:\n",
    "        x = np.concatenate((np.array([1.0]), x_data[j]))\n",
    "        self.forward_pass (x)\n",
    "        if self.output_layer_y.argmax() == y_data[j].argmax():\n",
    "          correct_training_results +=1\n",
    "        self.backward_pass (y_data[j])\n",
    "        self.adjust_weights (x)\n",
    "\n",
    "      print('epoch no:', i, ', train_acc: ', '%6.4f' % (correct_training_results/len(x_data)))\n"
   ]
  },
  {
   "cell_type": "code",
   "execution_count": 107,
   "id": "776cbdca",
   "metadata": {},
   "outputs": [
    {
     "data": {
      "text/plain": [
       "(27455, 784)"
      ]
     },
     "execution_count": 107,
     "metadata": {},
     "output_type": "execute_result"
    }
   ],
   "source": [
    "np.random.seed(7)\n",
    "\n",
    "df = pd.read_csv('data/sign_mnist_train.csv')\n",
    "\n",
    "imgs =df.iloc[:,1:]\n",
    "y = df.iloc[:,0:1]\n",
    "y = y.to_numpy()\n",
    "y_train = np.zeros((27455, 25))\n",
    "for i, y in enumerate(y):\n",
    "    y_train[i][y-1] = 1\n",
    "mean = np.mean(imgs) \n",
    "stdev = np.std(imgs)\n",
    "x_train = (imgs - mean) / stdev\n",
    "x_train = x_train.to_numpy()\n",
    "\n",
    "x_train.shape"
   ]
  },
  {
   "cell_type": "code",
   "execution_count": 108,
   "id": "39095b75",
   "metadata": {},
   "outputs": [
    {
     "name": "stdout",
     "output_type": "stream",
     "text": [
      "epoch no: 0 , train_acc:  0.6946\n",
      "epoch no: 1 , train_acc:  0.9364\n",
      "epoch no: 2 , train_acc:  0.9710\n",
      "epoch no: 3 , train_acc:  0.9767\n",
      "epoch no: 4 , train_acc:  0.9798\n",
      "epoch no: 5 , train_acc:  0.9805\n",
      "epoch no: 6 , train_acc:  0.9812\n",
      "epoch no: 7 , train_acc:  0.9812\n",
      "epoch no: 8 , train_acc:  0.9816\n",
      "epoch no: 9 , train_acc:  0.9827\n"
     ]
    }
   ],
   "source": [
    "mlp = MultiLayerPerceptron(784, 1, 60, 25, 1, 0.01)\n",
    "mlp.training(x_train, y_train)"
   ]
  },
  {
   "cell_type": "code",
   "execution_count": 77,
   "id": "a4102a0c",
   "metadata": {},
   "outputs": [],
   "source": [
    "chart_x = []\n",
    "chart_y_train = []\n",
    "chart_y_test = []\n",
    "def show_learning(epoch_no, train_acc, test_acc):\n",
    "    global chart_x\n",
    "    global chart_y_train\n",
    "    global chart_y_test\n",
    "    print('epoch no:', epoch_no, ', train_acc: ', '%6.4f' % train_acc,\n",
    "             ', test_acc: ', '%6.4f' % test_acc, )\n",
    "    chart_x.append(epoch_no + 1)\n",
    "    chart_y_test.append(1.0 - test_acc)\n",
    "    chart_y_train.append(1.0 - train_acc)\n",
    "\n",
    "def plot_learning():\n",
    "    plt.plot(chart_x, chart_y_train, 'r-', label='training error')\n",
    "    plt.plot(chart_x, chart_y_test, 'b-', label='test error')\n",
    "    plt.axis([0, len(chart_x), 0.0, 1.0])\n",
    "    plt.xlabel('training epochs')\n",
    "    plt.ylabel('error')\n",
    "    plt.legend()\n",
    "    plt.show()"
   ]
  },
  {
   "cell_type": "code",
   "execution_count": null,
   "id": "ba1eef6a",
   "metadata": {},
   "outputs": [
    {
     "data": {
      "image/png": "[encoded data removed]",
      "text/plain": [
       "<Figure size 432x288 with 1 Axes>"
      ]
     },
     "metadata": {
      "needs_background": "light"
     },
     "output_type": "display_data"
    }
   ],
   "source": [
    "plot_learning()"
   ]
  },
  {
   "cell_type": "code",
   "execution_count": null,
   "id": "b9df5487",
   "metadata": {},
   "outputs": [],
   "source": []
  }
 ],
 "metadata": {
  "interpreter": {
   "hash": "1f074f829bd833dadb34bb48398a43986af1904bc333e39f368d0d392c4220bb"
  },
  "kernelspec": {
   "display_name": "Python 3.9.5 64-bit ('base': conda)",
   "name": "python3"
  },
  "language_info": {
   "codemirror_mode": {
    "name": "ipython",
    "version": 3
   },
   "file_extension": ".py",
   "mimetype": "text/x-python",
   "name": "python",
   "nbconvert_exporter": "python",
   "pygments_lexer": "ipython3",
   "version": "3.8.5"
  }
 },
 "nbformat": 4,
 "nbformat_minor": 5
}
