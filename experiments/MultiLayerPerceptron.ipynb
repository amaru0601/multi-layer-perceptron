{
 "cells": [
  {
   "cell_type": "code",
   "execution_count": 137,
   "id": "9dfe962b",
   "metadata": {},
   "outputs": [],
   "source": [
    "import numpy as np\n",
    "import matplotlib.pyplot as plt\n",
    "import pandas as pd"
   ]
  },
  {
   "cell_type": "code",
   "execution_count": 138,
   "id": "f42df048",
   "metadata": {},
   "outputs": [
    {
     "name": "stdout",
     "output_type": "stream",
     "text": [
      "7172\n"
     ]
    }
   ],
   "source": [
    "np.random.seed(7)\n",
    "\n",
    "df = pd.read_csv('data/sign_mnist_train.csv')\n",
    "\n",
    "imgs =df.iloc[:,1:]\n",
    "y = df.iloc[:,0:1]\n",
    "y = y.to_numpy()\n",
    "y_train = np.zeros((27455, 25))\n",
    "for i, y in enumerate(y):\n",
    "    y_train[i][y-1] = 1\n",
    "mean = np.mean(imgs) \n",
    "stdev = np.std(imgs)\n",
    "x_train = (imgs - mean) / stdev\n",
    "x_train = x_train.to_numpy()\n",
    "\n",
    "df_test = pd.read_csv('data/sign_mnist_test.csv')\n",
    "imgs_t = df_test.iloc[:, 1:]\n",
    "y = df_test.iloc[:, 0:1]\n",
    "y = y.to_numpy()\n",
    "y_test = np.zeros((7172, 25))\n",
    "for i,y in enumerate(y):\n",
    "    y_test[i][y-1] = 1\n",
    "\n",
    "mean = np.mean(imgs_t)\n",
    "stdev = np.std(imgs_t)\n",
    "x_test = (imgs_t - mean) / stdev\n",
    "x_test = x_test.to_numpy()\n",
    "print(len(x_test))\n"
   ]
  },
  {
   "cell_type": "code",
   "execution_count": 139,
   "id": "b167b014",
   "metadata": {},
   "outputs": [],
   "source": [
    "def sigmoid (x):\n",
    "    return 1.0 / (1.0 + np.exp(-x))\n",
    "\n",
    "def dsigmoid (y):\n",
    "    return y * (1.0 - y)\n",
    "\n",
    "def tanh (x):\n",
    "    return np.tanh (x)\n",
    "\n",
    "def dtanh (y):\n",
    "    return 1 - y**2\n",
    "\n",
    "def relu (x):\n",
    "    return np.maximum (x, 0)\n",
    "\n",
    "def drelu (y):\n",
    "    return (y > 0)*1"
   ]
  },
  {
   "cell_type": "code",
   "execution_count": 6,
   "id": "32240b9e",
   "metadata": {},
   "outputs": [],
   "source": [
    "class MultiLayerPerceptron:\n",
    "  def __init__ (self, features, hidden_layers, hidden_neurons, output_neurons, f_activation, learning_rate):\n",
    "    self.features = features\n",
    "    self.h_layers = hidden_layers\n",
    "    self.h_neurons = hidden_neurons\n",
    "    self.o_neurons = output_neurons\n",
    "\n",
    "    self.fa = sigmoid\n",
    "    self.dfa = dsigmoid\n",
    "    if (f_activation == 0):\n",
    "      self.fa = sigmoid\n",
    "      self.dfa = dsigmoid\n",
    "    elif (f_activation == 1):\n",
    "      self.fa = tanh\n",
    "      self.dfa = dtanh\n",
    "    elif (f_activation == 2):\n",
    "      self.fa = relu\n",
    "      self.dfa = drelu\n",
    "\n",
    "    self.l_rate = learning_rate\n",
    "    self.generate_layers()\n",
    "  \n",
    "  # esta funcion construye una matrix de pesos aleatoriamente agregando una columna adicional\n",
    "  # de bias\n",
    "  # neuron_count: numero de perceptrones\n",
    "  # input_count: numero de features de un elemento\n",
    "  def layer_w (self, neuron_count, input_count):\n",
    "    weights = np.zeros((neuron_count, input_count+1))\n",
    "    for i in range(neuron_count):\n",
    "      for j in range(1, (input_count+1)):\n",
    "        weights[i][j] = np.random.uniform(-0.1, 0.1)\n",
    "    return weights\n",
    "\n",
    "  def generate_layers (self):\n",
    "    # Generation for hidden layers\n",
    "    self.hidden_layers_w = []\n",
    "    self.hidden_layers_y = []\n",
    "    self.hidden_layers_error = []\n",
    "    for i in range (self.h_layers):\n",
    "      hidden_layer_w = self.layer_w (self.h_neurons, self.features)\n",
    "      hidden_layer_y = np.zeros (self.h_neurons)\n",
    "      hidden_layer_error = np.zeros (self.h_neurons)\n",
    "      self.hidden_layers_w.append (hidden_layer_w)\n",
    "      self.hidden_layers_y.append (hidden_layer_y)\n",
    "      self.hidden_layers_error.append (hidden_layer_error)\n",
    "\n",
    "    # Generation for output layer\n",
    "    self.output_layer_w = self.layer_w (self.o_neurons, self.h_neurons)\n",
    "    self.output_layer_y = np.zeros (self.o_neurons)\n",
    "    self.output_layer_error = np.zeros (self.o_neurons)\n",
    "\n",
    "  #parametro x es una muestra del dataset (1, n) donde n es el num de features\n",
    "  def forward_pass (self, x):\n",
    "    #for i, w in enumerate (self.hidden_layer_w):\n",
    "    #  z = np.dot (w, x)\n",
    "    #  self.hidden_layer_y [i] = self.fa(z)\n",
    "    #hidden_output_array = np.concatenate((np.array([1.0]), self.hidden_layer_y))\n",
    "\n",
    "    hidden_output_array = x\n",
    "    for it_layer in range(self.h_layers):\n",
    "      for i, w in enumerate (self.hidden_layers_w [it_layer]):\n",
    "        z = np.dot (w, hidden_output_array)\n",
    "        self.hidden_layers_y [it_layer] [i] = self.fa (z)\n",
    "      hidden_output_array = np.concatenate((np.array([1.0]), self.hidden_layers_y [it_layer]))\n",
    "\n",
    "\n",
    "    for i, w in enumerate (self.output_layer_w):\n",
    "      z = np.dot (w, hidden_output_array)\n",
    "      self.output_layer_y [i] = 1.0 / (1.0 + np.exp(-z))\n",
    "\n",
    "  #y_valid: one hot encoding(1,25) representando una letra\n",
    "  def backward_pass (self, y_truth):\n",
    "    #calculamos el error con respecto a la capa de salida\n",
    "    for i, y in enumerate(self.output_layer_y):\n",
    "      error_prime = -(y_truth[i] - y)\n",
    "      derivative = y * (1.0 - y)\n",
    "      self.output_layer_error[i] = error_prime * derivative\n",
    "\n",
    "    #iteramos la capa hidden, i -> neural \n",
    "    #guardamos pesos relacionados a neural i de la capa output\n",
    "    previous_layer_w = self.output_layer_w\n",
    "    previous_layer_error = self.output_layer_error\n",
    "    for it_layer in range (self.h_layers):\n",
    "      for i, y in enumerate (self.hidden_layers_y [it_layer]):\n",
    "        error_weights = []\n",
    "        for w in previous_layer_w:\n",
    "          error_weights.append(w[i+1])\n",
    "        error_weight_array = np.array(error_weights)\n",
    "\n",
    "        derivate = self.dfa (y)\n",
    "        weighted_error = np.dot (error_weight_array, previous_layer_error)\n",
    "        self.hidden_layers_error [it_layer] [i] = weighted_error * derivate\n",
    "      previous_layer_w = self.hidden_layers_w [it_layer]\n",
    "      previous_layer_error = self.hidden_layers_error [it_layer]\n",
    "\n",
    "\n",
    "\n",
    "    #for i,y in enumerate(self.hidden_layer_y):\n",
    "     # error_weights = []\n",
    "      #for w in self.output_layer_w:\n",
    "       #   error_weights.append(w[i+1])\n",
    "      #error_weight_array = np.array(error_weights)\n",
    "      \n",
    "      #derivative = self.dfa (y)\n",
    "      #calculamos el error propagado de neural i \n",
    "      #weighted_error = np.dot(error_weight_array, self.output_layer_error)\n",
    "      #calculamos el error con respecto a la funcion de activacion\n",
    "      #self.hidden_layer_error[i] = weighted_error * derivative\n",
    "\n",
    "  # x es una muestra de (1,785)\n",
    "  def adjust_weights(self, x):\n",
    "    #for i, error in enumerate (self.hidden_layer_error):\n",
    "     # self.hidden_layer_w [i] -= (x * self.l_rate * error)\n",
    "\n",
    "    #hidden_output_array = np.concatenate ((np.array([1.0]), self.hidden_layer_y))\n",
    "\n",
    "    hidden_output_array = x\n",
    "    for it_layer in range (self.h_layers):\n",
    "      for i, error in enumerate (self.hidden_layers_error [it_layer]):\n",
    "        self.hidden_layers_w [it_layer] [i] -= (hidden_output_array * self.l_rate * error)\n",
    "      hidden_output_array = np.concatenate ((np.array([1,0]), self.hidden_layers_y[it_layer]))\n",
    "    \n",
    "    for i, error in enumerate (self.output_layer_error):\n",
    "      self.output_layer_w [i] -= (hidden_output_array * self.l_rate * error)\n",
    "\n",
    "  def training (self, x_data, y_data, x_test, y_test):\n",
    "    index_list = list(range(len(x_data)))\n",
    "    chart_x = []\n",
    "    chart_y_train = []\n",
    "    chart_y_test = []\n",
    "    for i in range(10): # num de epocas => 10\n",
    "      np.random.shuffle(index_list)\n",
    "      correct_training_results = 0\n",
    "      for j in index_list:\n",
    "        x = np.concatenate((np.array([1.0]), x_data[j]))\n",
    "        self.forward_pass (x)\n",
    "        if self.output_layer_y.argmax() == y_data[j].argmax():\n",
    "          correct_training_results +=1\n",
    "        self.backward_pass (y_data[j])\n",
    "        self.adjust_weights (x)\n",
    "      accuracy = correct_training_results/len(x_data)\n",
    "      \n",
    "      chart_x.append(i + 1)\n",
    "      chart_y_train.append(1.0 - accuracy)\n",
    "\n",
    "      correct_test_results = 0\n",
    "      for j in range(len(x_test)):\n",
    "        x = np.concatenate((np.array([1.0]), x_test[j]))\n",
    "        self.forward_pass(x)\n",
    "        if self.output_layer_y.argmax() == y_test[j].argmax():\n",
    "          correct_test_results += 1\n",
    "\n",
    "      accuracy2 = correct_test_results/len(x_test)\n",
    "      chart_y_test.append(1.0 - accuracy2)\n",
    "      print('epoch no:', i+1, ', train accuracy: ', '%6.4f' % accuracy, ', test accuracy: ', '%6.4f' % accuracy2)\n",
    "    return chart_x, chart_y_train, chart_y_test\n"
   ]
  },
  {
   "cell_type": "code",
   "execution_count": 141,
   "id": "39095b75",
   "metadata": {},
   "outputs": [
    {
     "name": "stdout",
     "output_type": "stream",
     "text": [
      "epoch no: 1 , train accuracy:  0.6946 , test accuracy:  0.6850\n",
      "epoch no: 2 , train accuracy:  0.9364 , test accuracy:  0.7192\n",
      "epoch no: 3 , train accuracy:  0.9710 , test accuracy:  0.7280\n",
      "epoch no: 4 , train accuracy:  0.9767 , test accuracy:  0.7220\n",
      "epoch no: 5 , train accuracy:  0.9798 , test accuracy:  0.7315\n",
      "epoch no: 6 , train accuracy:  0.9805 , test accuracy:  0.7324\n",
      "epoch no: 7 , train accuracy:  0.9812 , test accuracy:  0.7273\n",
      "epoch no: 8 , train accuracy:  0.9812 , test accuracy:  0.7287\n",
      "epoch no: 9 , train accuracy:  0.9816 , test accuracy:  0.7234\n",
      "epoch no: 10 , train accuracy:  0.9827 , test accuracy:  0.7172\n"
     ]
    }
   ],
   "source": [
    "mlp = MultiLayerPerceptron(784, 1, 60, 25, 1, 0.01)\n",
    "epochs, train, test = mlp.training(x_train, y_train, x_test, y_test)"
   ]
  },
  {
   "cell_type": "code",
   "execution_count": 129,
   "id": "a4102a0c",
   "metadata": {},
   "outputs": [
    {
     "data": {
      "image/png": "[encoded data removed]",
      "text/plain": [
       "<Figure size 432x288 with 1 Axes>"
      ]
     },
     "metadata": {
      "needs_background": "light"
     },
     "output_type": "display_data"
    }
   ],
   "source": [
    "def plot_learning(epochs, train, test):\n",
    "    plt.plot(epochs, train, 'g', label='training error')\n",
    "    plt.plot(epochs, test, 'r-', label='test error')\n",
    "    plt.axis([1, len(epochs), 0.0, 1.0])\n",
    "    plt.xlabel('training epochs')\n",
    "    plt.ylabel('error')\n",
    "    plt.legend()\n",
    "    plt.show()\n",
    "plot_learning(epochs, train, test)"
   ]
  },
  {
   "cell_type": "code",
   "execution_count": 130,
   "id": "b9df5487",
   "metadata": {},
   "outputs": [
    {
     "name": "stdout",
     "output_type": "stream",
     "text": [
      "epoch no: 0 , train accuracy:  0.7860 , test accuracy:  0.7026\n",
      "epoch no: 1 , train accuracy:  0.9562 , test accuracy:  0.7227\n",
      "epoch no: 2 , train accuracy:  0.9769 , test accuracy:  0.7430\n",
      "epoch no: 3 , train accuracy:  0.9821 , test accuracy:  0.7489\n",
      "epoch no: 4 , train accuracy:  0.9850 , test accuracy:  0.7467\n",
      "epoch no: 5 , train accuracy:  0.9859 , test accuracy:  0.7578\n",
      "epoch no: 6 , train accuracy:  0.9865 , test accuracy:  0.7563\n",
      "epoch no: 7 , train accuracy:  0.9865 , test accuracy:  0.7575\n",
      "epoch no: 8 , train accuracy:  0.9865 , test accuracy:  0.7603\n",
      "epoch no: 9 , train accuracy:  0.9865 , test accuracy:  0.7589\n"
     ]
    },
    {
     "data": {
      "image/png": "[encoded data removed]",
      "text/plain": [
       "<Figure size 432x288 with 1 Axes>"
      ]
     },
     "metadata": {
      "needs_background": "light"
     },
     "output_type": "display_data"
    }
   ],
   "source": [
    "# segundo intento modificando learning rate mas grande, seguimos en la barrera\n",
    "# del 75 de accuracy con el test set , debemos cambiar el modelo\n",
    "mlp = MultiLayerPerceptron(784, 1, 60, 25, 1, 0.1)\n",
    "epochs, train, test = mlp.training(x_train, y_train, x_test, y_test)\n",
    "plot_learning(epochs, train, test)"
   ]
  },
  {
   "cell_type": "code",
   "execution_count": 142,
   "id": "1f8175c4",
   "metadata": {},
   "outputs": [
    {
     "name": "stdout",
     "output_type": "stream",
     "text": [
      "epoch no: 1 , train accuracy:  0.7892 , test accuracy:  0.6726\n",
      "epoch no: 2 , train accuracy:  0.9520 , test accuracy:  0.7289\n",
      "epoch no: 3 , train accuracy:  0.9779 , test accuracy:  0.7557\n",
      "epoch no: 4 , train accuracy:  0.9809 , test accuracy:  0.7526\n",
      "epoch no: 5 , train accuracy:  0.9814 , test accuracy:  0.7520\n",
      "epoch no: 6 , train accuracy:  0.9816 , test accuracy:  0.7377\n",
      "epoch no: 7 , train accuracy:  0.9651 , test accuracy:  0.7405\n",
      "epoch no: 8 , train accuracy:  0.9826 , test accuracy:  0.7309\n",
      "epoch no: 9 , train accuracy:  0.9848 , test accuracy:  0.7507\n",
      "epoch no: 10 , train accuracy:  0.9858 , test accuracy:  0.7514\n"
     ]
    },
    {
     "data": {
      "image/png": "[encoded data removed]",
      "text/plain": [
       "<Figure size 432x288 with 1 Axes>"
      ]
     },
     "metadata": {
      "needs_background": "light"
     },
     "output_type": "display_data"
    }
   ],
   "source": [
    "# intento modificando y usando ReLU en vez de tanh \n",
    "# en el hidden layer , resultado no pudo conseguir mas del 75% de accuracy\n",
    "mlp = MultiLayerPerceptron(784, 1, 60, 25, 1, 0.1)\n",
    "epochs, train, test = mlp.training(x_train, y_train, x_test, y_test)\n",
    "plot_learning(epochs, train, test)"
   ]
  },
  {
   "cell_type": "code",
   "execution_count": 143,
   "id": "b558fda7",
   "metadata": {},
   "outputs": [
    {
     "name": "stdout",
     "output_type": "stream",
     "text": [
      "epoch no: 1 , train accuracy:  0.7821 , test accuracy:  0.7136\n",
      "epoch no: 2 , train accuracy:  0.9490 , test accuracy:  0.7408\n",
      "epoch no: 3 , train accuracy:  0.9775 , test accuracy:  0.7487\n",
      "epoch no: 4 , train accuracy:  0.9846 , test accuracy:  0.7347\n",
      "epoch no: 5 , train accuracy:  0.9845 , test accuracy:  0.7310\n",
      "epoch no: 6 , train accuracy:  0.9895 , test accuracy:  0.7320\n",
      "epoch no: 7 , train accuracy:  0.9895 , test accuracy:  0.7349\n",
      "epoch no: 8 , train accuracy:  0.9903 , test accuracy:  0.7213\n",
      "epoch no: 9 , train accuracy:  0.9911 , test accuracy:  0.7309\n",
      "epoch no: 10 , train accuracy:  0.9911 , test accuracy:  0.7345\n"
     ]
    },
    {
     "data": {
      "image/png": "[encoded data removed]",
      "text/plain": [
       "<Figure size 432x288 with 1 Axes>"
      ]
     },
     "metadata": {
      "needs_background": "light"
     },
     "output_type": "display_data"
    }
   ],
   "source": [
    "#experimento con 3 capas no se logro pasar el accuracy de 75%\n",
    "mlp = MultiLayerPerceptron(784, 3, 60, 25, 1, 0.1)\n",
    "epochs, train, test = mlp.training(x_train, y_train, x_test, y_test)\n",
    "plot_learning(epochs, train, test)"
   ]
  },
  {
   "cell_type": "code",
   "execution_count": null,
   "id": "f748e3e1",
   "metadata": {},
   "outputs": [],
   "source": []
  }
 ],
 "metadata": {
  "interpreter": {
   "hash": "1f074f829bd833dadb34bb48398a43986af1904bc333e39f368d0d392c4220bb"
  },
  "kernelspec": {
   "display_name": "Python 3.9.5 64-bit ('base': conda)",
   "name": "python3"
  },
  "language_info": {
   "codemirror_mode": {
    "name": "ipython",
    "version": 3
   },
   "file_extension": ".py",
   "mimetype": "text/x-python",
   "name": "python",
   "nbconvert_exporter": "python",
   "pygments_lexer": "ipython3",
   "version": "3.8.5"
  }
 },
 "nbformat": 4,
 "nbformat_minor": 5
}
